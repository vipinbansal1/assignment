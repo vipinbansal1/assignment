{
  "nbformat": 4,
  "nbformat_minor": 0,
  "metadata": {
    "colab": {
      "name": "Assignment.ipynb",
      "version": "0.3.2",
      "provenance": [],
      "collapsed_sections": [],
      "toc_visible": true
    },
    "kernelspec": {
      "name": "python3",
      "display_name": "Python 3"
    },
    "accelerator": "GPU"
  },
  "cells": [
    {
      "cell_type": "code",
      "metadata": {
        "id": "LRi4SqfgfuGk",
        "colab_type": "code",
        "outputId": "003dfa06-bd94-49fd-aaf5-bb71adfc4f3c",
        "colab": {
          "base_uri": "https://localhost:8080/",
          "height": 55
        }
      },
      "source": [
        "from google.colab import drive\n",
        "drive.mount(\"ndrive\")"
      ],
      "execution_count": 3,
      "outputs": [
        {
          "output_type": "stream",
          "text": [
            "Drive already mounted at ndrive; to attempt to forcibly remount, call drive.mount(\"ndrive\", force_remount=True).\n"
          ],
          "name": "stdout"
        }
      ]
    },
    {
      "cell_type": "code",
      "metadata": {
        "id": "-0kOVwuwf4zW",
        "colab_type": "code",
        "outputId": "a1bdb126-aae1-4623-a535-ef89e09c596c",
        "colab": {
          "base_uri": "https://localhost:8080/",
          "height": 35
        }
      },
      "source": [
        "cd 'ndrive/My Drive/assignment'"
      ],
      "execution_count": 4,
      "outputs": [
        {
          "output_type": "stream",
          "text": [
            "/content/ndrive/My Drive/assignment\n"
          ],
          "name": "stdout"
        }
      ]
    },
    {
      "cell_type": "code",
      "metadata": {
        "id": "owk5-Ugyf7x2",
        "colab_type": "code",
        "colab": {}
      },
      "source": [
        "import matplotlib.pyplot as plt\n",
        "import pandas as pd\n",
        "import numpy as np\n",
        "from sklearn.datasets import load_sample_image\n",
        "from sklearn.model_selection import train_test_split\n",
        "from sklearn.preprocessing import LabelEncoder, OneHotEncoder, MinMaxScaler\n",
        "from skimage import io, transform\n",
        "import tensorflow as tf\n",
        "import pickle as pk\n",
        "from sklearn.impute import SimpleImputer"
      ],
      "execution_count": 0,
      "outputs": []
    },
    {
      "cell_type": "markdown",
      "metadata": {
        "id": "Uugb4VoygBU3",
        "colab_type": "text"
      },
      "source": [
        "## **Assuming metadata file exist in *current* folder.**"
      ]
    },
    {
      "cell_type": "code",
      "metadata": {
        "id": "G0JgoUOzf_N3",
        "colab_type": "code",
        "colab": {}
      },
      "source": [
        "metaData = pd.read_csv(\"HAM10000_metadata.csv\")\n",
        "\n",
        "lesion_types = {\n",
        "        'nv': 'Melanocytic nevus',\n",
        "        'mel':'Melanoma',\n",
        "        'bkl':'Benign keratosis',\n",
        "        'bcc':'Basal cell carcinoma',    \n",
        "        'akiec':'Actinic keratosis',\n",
        "        'vasc':'Vascular lesion',\n",
        "        'df':'Dermatofibroma'\n",
        "        }\n"
      ],
      "execution_count": 0,
      "outputs": []
    },
    {
      "cell_type": "markdown",
      "metadata": {
        "id": "ykKK4vwEgjtw",
        "colab_type": "text"
      },
      "source": [
        "**Encoder used for labeling data and saving model for future reference.**"
      ]
    },
    {
      "cell_type": "code",
      "metadata": {
        "id": "NHc36xbKgiKY",
        "colab_type": "code",
        "colab": {}
      },
      "source": [
        "\n",
        "lEncoder = LabelEncoder()\n",
        "lEncoder.fit(['akiec', 'bcc', 'bkl', 'df', 'mel', 'nv', 'vasc'])\n",
        "metaData['encoded_dx'] = lEncoder.transform(metaData['dx'])\n",
        "pk.dump(lEncoder,open(\"encoder.pkl\",\"wb\"))\n",
        "#dumping encoder for use in future"
      ],
      "execution_count": 0,
      "outputs": []
    },
    {
      "cell_type": "code",
      "metadata": {
        "id": "CXJZJxCEn8xm",
        "colab_type": "code",
        "outputId": "069ac318-f953-4ad4-ee5d-b0862d0615d4",
        "colab": {
          "base_uri": "https://localhost:8080/",
          "height": 489
        }
      },
      "source": [
        "fig, axes = plt.subplots(1,1,figsize=(12,6))\n",
        "metaData['dx'].map(lesion_types.get).value_counts().plot(kind=\"bar\", ax=axes)"
      ],
      "execution_count": 8,
      "outputs": [
        {
          "output_type": "execute_result",
          "data": {
            "text/plain": [
              "<matplotlib.axes._subplots.AxesSubplot at 0x7f77022c7080>"
            ]
          },
          "metadata": {
            "tags": []
          },
          "execution_count": 8
        },
        {
          "output_type": "display_data",
          "data": {
            "image/png": "[encoded data removed]",
            "text/plain": [
              "<Figure size 864x432 with 1 Axes>"
            ]
          },
          "metadata": {
            "tags": []
          }
        }
      ]
    },
    {
      "cell_type": "markdown",
      "metadata": {
        "id": "sKl8iq5_oAiS",
        "colab_type": "text"
      },
      "source": [
        "# From the graph it's very much clear that data is very Skewed and minority class should be oversampled for good results.\n",
        "Steps that i followed for this problem:\n",
        "\n",
        "**Approaches that I was able to apply in the alloted time frame.**\n",
        "1. Develope a very basic CNN model with two CNN layers, one pooling layer and  2 dense layers. This design I have used hyperparamete **dropout** layers and **learning rate**. I used inverse scaling technique and gradually reduced **learning rate** for better results and faster training.\n",
        "\n",
        "2. I also observed a pattern, where images have actual content on the centre always. **For me its ok to loose corner data as it does not contain much information and hence used padding=\"VALID\". It makes model training bit faster and also solves the problem of out of memory, which I observed even in Google Colaboratory at that time I was trying batch size of 100 images.**\n",
        "\n",
        "3. Then i analyses various online formus as well for similar problem. But observed that none of the forum is using **Meta Data**. For me meta data is also relevant information for liasion detection. I clubbed **Meta Data**, infomration with the **Dense Layer and observed bit better result than the normal model.** \n",
        "**Note:** A substitute as mentioned in 6.\n",
        "\n",
        "**Approaches which are still pending for evaluation**\n",
        "4. Data is skewed, and except \"Melanocytic nevus\", every image collection should required oversampling for non-biased results. **I explored Keras image preprocessing Class ImageDataGenerator**.\n",
        "for image augumentation. **But the limitation with this approach, I can't get MetaData for oversampled images and hence cannt use approach 3 along with augumented images**\n",
        "\n",
        "5. I develope a CNN layer's but we have many very well trained and proven CNN networks like MobileNet. Should be try with this as well.\n",
        "\n",
        "6. Ensemble technique. Instead of merging meta data with the convoluted image data, create two DNN model.\n",
        "     * Regular CNN model as mentioned in step 1.\n",
        "     * DNN model with meta data.\n",
        "   \n",
        "\n"
      ]
    },
    {
      "cell_type": "code",
      "metadata": {
        "id": "AzjQD4vYg3LR",
        "colab_type": "code",
        "colab": {}
      },
      "source": [
        "\n",
        "y = metaData['encoded_dx']\n",
        "df_train, df_test = train_test_split(metaData, test_size=0.1, random_state=786, stratify=y)\n"
      ],
      "execution_count": 0,
      "outputs": []
    },
    {
      "cell_type": "markdown",
      "metadata": {
        "id": "QxpqM2DOg_Hq",
        "colab_type": "text"
      },
      "source": [
        "***transformation*** default is False, if set as true will rescale image by 1/4. I didnt get a chance to try with rescaled image.\n",
        "Since we have to analyse different type of liasion closely, image scaling will not be that much helpful.\n",
        "\n",
        "**Image data normalization and ensure that it always in a scale of between (0,1) and hence simily multiply each pixel by 1/255.**\n",
        "\n",
        "# Assumption all the images exist under *images* folder.\n",
        "Though image dimensions are same for all the images, still put a safe check and converted back to 450*600.\n",
        "\n",
        "\n",
        "```\n",
        "#if(450 != img.shape[0] or 600 != img.shape[1]):\n",
        "#  img = transform.resize(img, (450, 600),anti_aliasing=True)\n",
        "```\n",
        "\n"
      ]
    },
    {
      "cell_type": "code",
      "metadata": {
        "id": "V1S7KHDrg7kk",
        "colab_type": "code",
        "colab": {}
      },
      "source": [
        "def get_batch(df, batch_size, transformation = False):\n",
        "    \"\"\"\n",
        "    tranformation: Set as False just to get the original image. Tried to run,\n",
        "    but observed memory issue. Set can set as True and reduced scale  by 1/4.\n",
        "    \"\"\"\n",
        "    for batch_i in range(0, 1 + (df.shape[0] //batch_size)):\n",
        "        start_i = batch_i * batch_size\n",
        "        try:\n",
        "            batch = df.iloc[start_i:start_i + batch_size]    \n",
        "        except IndexError:\n",
        "            batch = df.loc[start_i:]\n",
        "        image_list  = [] \n",
        "        label = []\n",
        "        \n",
        "        for i in range(batch.shape[0]):\n",
        "            imageFileName = batch.iloc[i]['image_id']\n",
        "            try:\n",
        "                img = io.imread('images/'+imageFileName+\".jpg\", plugin='matplotlib')\n",
        "                #if(450 != img.shape[0] or 600 != img.shape[1]):\n",
        "                #  img = transform.resize(img, (450, 600),anti_aliasing=True)\n",
        "                if True == transformation:\n",
        "                    img = transform.rescale(img, 0.25, anti_aliasing=True)\n",
        "                    #Recommended to use anti_aliasing as True just to have crisp boundaries of the image.\n",
        "                image_list.append(img/255)\n",
        "                #Normalizing image data\n",
        "                \n",
        "                label.append(batch.iloc[i]['encoded_dx'])\n",
        "            \n",
        "            except IOError:\n",
        "                pass\n",
        "        yield np.array(image_list), np.array(label)   "
      ],
      "execution_count": 0,
      "outputs": []
    },
    {
      "cell_type": "markdown",
      "metadata": {
        "id": "fMRM2sRbzZIG",
        "colab_type": "text"
      },
      "source": [
        "Most of the placeholder's are self explanatory. \n",
        "\n",
        "**is_model_training**, is used to set whether model is used for training or prediction, so that we can drop the usage of **dropout** layer."
      ]
    },
    {
      "cell_type": "code",
      "metadata": {
        "id": "P3aMzHikhVRt",
        "colab_type": "code",
        "colab": {}
      },
      "source": [
        "def modelInputs(height, width, chanels):\n",
        "    '''Create palceholders for inputs to the model'''\n",
        "    features = tf.placeholder(tf.float32, shape=[None, height, width, channels],\n",
        "                              name=\"features\")    \n",
        "    target = tf.placeholder(tf.int32, shape=[None], name=\"target\")\n",
        "    lr = tf.placeholder(tf.float32, name='lr')\n",
        "    keep_prob = tf.placeholder(tf.float32, name='keep_prob')\n",
        "    is_model_training = tf.placeholder(tf.bool, name = \"is_model_training\")\n",
        "    return features, target, lr, keep_prob, is_model_training"
      ],
      "execution_count": 0,
      "outputs": []
    },
    {
      "cell_type": "markdown",
      "metadata": {
        "id": "mJgI_JhAhl_M",
        "colab_type": "text"
      },
      "source": [
        "Have used **Dropuout layer** for taining phase and minimizing overfitting.  Also introduced **pooling for conv2 layer.**"
      ]
    },
    {
      "cell_type": "code",
      "metadata": {
        "id": "6qneWPqdhah5",
        "colab_type": "code",
        "colab": {}
      },
      "source": [
        "def convLayersWithPooling(features, keep_prob, conv1_FiltersCount, conv2_FiltersCount, \n",
        "                          conv1_filterSize, conv2_filterSize, conv1_stride, conv2_stride, \n",
        "                          conv1_pad, conv2_pad, denseLayerNeurons, outputSize, isTraining):\n",
        "    with tf.name_scope(\"ConvLayers\"):\n",
        "        conv1 = tf.layers.conv2d(features, filters=conv1_FiltersCount, kernel_size=conv1_filterSize,\n",
        "                             strides=conv1_stride, padding=conv1_pad, activation=tf.nn.relu, name=\"conv1\")\n",
        "        conv2 = tf.layers.conv2d(conv1, filters=conv2_FiltersCount, kernel_size=conv2_filterSize,\n",
        "                             strides=conv2_stride, padding=conv2_pad, activation=tf.nn.relu, name=\"conv2\")\n",
        "    with tf.name_scope(\"Pooling\"):\n",
        "        layer3 = tf.nn.max_pool(conv2, ksize=[1, 2, 2, 1], strides=[1, 2, 2, 1], padding=\"VALID\")\n",
        "        layer3_reshaped = tf.reshape(layer3, shape=[-1, layer3.shape[1]* layer3.shape[2]* layer3.shape[3]])\n",
        "        \n",
        "    with tf.name_scope(\"DenseLayer\"):\n",
        "        layer4 = tf.layers.dense(layer3_reshaped, denseLayerNeurons, activation=tf.nn.relu, \n",
        "                                 name=\"fc\")\n",
        "        dropout = tf.layers.dropout(inputs=layer4, rate=keep_prob, training=isTraining)\n",
        "    with tf.name_scope(\"output\"):\n",
        "        logits = tf.layers.dense(dropout, outputSize, name=\"output\")\n",
        "        print(\"logits:\",logits)\n",
        "    return logits"
      ],
      "execution_count": 0,
      "outputs": []
    },
    {
      "cell_type": "markdown",
      "metadata": {
        "id": "vQymO1OoK4LQ",
        "colab_type": "text"
      },
      "source": [
        "#Optimizer used with *learning rate*. \n",
        "\n",
        "**Used Invscaling learning rate, which will gradually get decreased till threshold.**"
      ]
    },
    {
      "cell_type": "code",
      "metadata": {
        "id": "5lVjl0dWh1Es",
        "colab_type": "code",
        "colab": {}
      },
      "source": [
        "def optmizationWithAccuracy(logits, target, lr):\n",
        "    with tf.name_scope(\"train\"):\n",
        "        xentropy = tf.nn.sparse_softmax_cross_entropy_with_logits(logits=logits, \n",
        "                                                                  labels=target)\n",
        "        print(\"xentropy:\", xentropy)\n",
        "        loss = tf.reduce_mean(xentropy)\n",
        "        print(\"loss:\",loss)\n",
        "        optimizer = tf.train.AdamOptimizer(learning_rate = lr)\n",
        "        training_op = optimizer.minimize(loss)\n",
        "\n",
        "    with tf.name_scope(\"eval\"):\n",
        "        correct = tf.nn.in_top_k(logits, target, 1)\n",
        "        accuracy = tf.reduce_mean(tf.cast(correct, tf.float32))\n",
        "\n",
        "    return loss, training_op, accuracy"
      ],
      "execution_count": 0,
      "outputs": []
    },
    {
      "cell_type": "markdown",
      "metadata": {
        "id": "f0wTbASy0RgB",
        "colab_type": "text"
      },
      "source": [
        "#Reducing learning rate with each iteration for  more crisp model convergence."
      ]
    },
    {
      "cell_type": "code",
      "metadata": {
        "id": "nU-Sx3CjiHyY",
        "colab_type": "code",
        "colab": {}
      },
      "source": [
        "height = 450\n",
        "width = 600\n",
        "channels = 3\n",
        "\n",
        "conv1_FiltersCount = 16\n",
        "conv1_filterSize = 3\n",
        "conv1_stride = 1\n",
        "conv1_pad = \"SAME\"  #Tried with \"VALID\" as well\n",
        "\n",
        "conv2_FiltersCount = 32\n",
        "conv2_filterSize = 3\n",
        "conv2_stride = 2\n",
        "conv2_pad = \"SAME\"\n",
        "denseLayerNeurons = 64\n",
        "outputSize = 7\n",
        "\n",
        "k_prob = 0.75\n",
        "learning_rate = 0.005\n",
        "invscaling_factor = 0.9\n",
        "min_lr_threshold = 0.0001\n",
        "\n",
        "# Early stopping criteria. In case loss on test data is not decreasing continuosly for five times.\n",
        "# It means model is not learning and good to stop and retune hyper parameter.\n",
        "earlyStop = 0 \n",
        "threshold = 5 \n",
        "\n",
        "\n",
        "\n",
        "n_epochs = 10\n",
        "batch_size = 20"
      ],
      "execution_count": 0,
      "outputs": []
    },
    {
      "cell_type": "code",
      "metadata": {
        "id": "KoOKJ2fhiXOA",
        "colab_type": "code",
        "outputId": "66f281b8-cf4a-4b88-96ae-2b1e6d637088",
        "colab": {
          "base_uri": "https://localhost:8080/",
          "height": 89
        }
      },
      "source": [
        "tf.reset_default_graph()\n",
        "features, target, lr, keep_prob, is_model_training = modelInputs(height, width, channels)\n",
        "\n",
        "logits = convLayersWithPooling(features, keep_prob, conv1_FiltersCount, conv2_FiltersCount, \n",
        "                               conv1_filterSize, conv2_filterSize,conv1_stride, conv2_stride, \n",
        "                               conv1_pad, conv2_pad, denseLayerNeurons, outputSize, is_model_training)\n",
        "loss, training_op, accuracy = optmizationWithAccuracy(logits, target, lr)\n",
        "\n",
        "with tf.name_scope(\"init_and_save\"):\n",
        "    init = tf.global_variables_initializer()\n",
        "    saver = tf.train.Saver()\n"
      ],
      "execution_count": 16,
      "outputs": [
        {
          "output_type": "stream",
          "text": [
            "logits: Tensor(\"output/output/BiasAdd:0\", shape=(?, 7), dtype=float32)\n",
            "xentropy: Tensor(\"train/SparseSoftmaxCrossEntropyWithLogits/SparseSoftmaxCrossEntropyWithLogits:0\", shape=(?,), dtype=float32)\n",
            "loss: Tensor(\"train/Mean:0\", shape=(), dtype=float32)\n"
          ],
          "name": "stdout"
        }
      ]
    },
    {
      "cell_type": "code",
      "metadata": {
        "id": "N7ZPN1roiP_7",
        "colab_type": "code",
        "outputId": "0a3d36d6-213f-456d-aa6a-7b6875380d77",
        "colab": {
          "base_uri": "https://localhost:8080/",
          "height": 52
        }
      },
      "source": [
        "with tf.Session() as sess:\n",
        "    init.run()\n",
        "    train_loss = []\n",
        "    test_loss = []\n",
        "    train_accuracy = []\n",
        "    test_accuracy = []\n",
        "    for epoch in range(n_epochs):\n",
        "        count = 0\n",
        "        epochLosses = []\n",
        "        accuracy =[]\n",
        "        print(\"\\n***************************************************************epoch:\",epoch)\n",
        "        for i, (X_image, y_label) in enumerate(get_batch(df_train, batch_size, False)):\n",
        "            #print(X_image.shape, y_label.reshape(-1))\n",
        "            \n",
        "            losses, op, correctness = sess.run((loss, training_op, accuracy), \n",
        "                                               feed_dict={features: X_image,\n",
        "                                               target:y_label.reshape(-1), \n",
        "                                               lr:learning_rate,\n",
        "                                               keep_prob:k_prob,\n",
        "                                               is_model_training:True})\n",
        "            epochLosses.append(losses)\n",
        "            accuracy.append(correctness)            \n",
        "            if count == 50:\n",
        "                break\n",
        "            count = count+1\n",
        "            \n",
        "        train_loss.append(np.mean(epochLosses))   \n",
        "        train_accuracy.append(np.mean(accuracy))\n",
        "        # Reducing learning rate for more gannualar results. Though, it will \n",
        "        #make training bit slow.\n",
        "        print(\"learning_rate\", learning_rate)\n",
        "        learning_rate = np.max([learning_rate * invscaling_factor, min_lr_threshold])\n",
        "        print(\"learning_rate\", learning_rate)\n",
        "        \n",
        "        \n",
        "        \n",
        "        total_test_loss = []\n",
        "        t_accuracy = []\n",
        "        #print(\"train loss:\", train_loss)\n",
        "        count = 0\n",
        "        for i, (X_image, y_label) in enumerate(get_batch(df_test, 15, False)):\n",
        "            losses, acc = sess.run((loss,accuracy), feed_dict={features: X_image, \n",
        "                                               target:y_label.reshape(-1),\n",
        "                                               keep_prob:1,\n",
        "                                               is_model_training:False})    \n",
        "\n",
        "            total_test_loss.append(losses)\n",
        "            t_accuracy.append(acc)\n",
        "            if count == 5:\n",
        "                break\n",
        "            count = count+1\n",
        "        \n",
        "        print(\"tarin_loss:\", np.mean(epochLosses), \"    test loss:\",np.mean(total_test_loss))    \n",
        "        test_loss.append(np.mean(total_test_loss))\n",
        "        test_accuracy.append(np.mean(t_accuracy))\n",
        "        \n",
        "        #print(\"test loss:\", test_loss)\n",
        "        if np.mean(total_test_loss) <= np.min(test_loss):\n",
        "            print(\"Model getting better\")\n",
        "            earlyStop = 0\n",
        "            saver = tf.train.Saver() \n",
        "            #saver.save(sess, checkpoint)\n",
        "\n",
        "        else:\n",
        "            print(\"No Improvement observed.\")\n",
        "            earlyStop += 1\n",
        "            if earlyStop == threshold:\n",
        "                print(\"No Improvement and terminating\")\n",
        "                break"
      ],
      "execution_count": 0,
      "outputs": [
        {
          "output_type": "stream",
          "text": [
            "\n",
            "***************************************************************epoch: 0\n"
          ],
          "name": "stdout"
        }
      ]
    },
    {
      "cell_type": "markdown",
      "metadata": {
        "id": "5OHJhFsWLOYe",
        "colab_type": "text"
      },
      "source": [
        "# Result capture for 10 epochs with padding.s \n",
        "For PoC, captured result for partial data and dont run for the whole set."
      ]
    },
    {
      "cell_type": "code",
      "metadata": {
        "id": "oqGsO__UEwf-",
        "colab_type": "code",
        "outputId": "a7353c84-de47-45a3-8df6-3b9430fb0fc5",
        "colab": {
          "base_uri": "https://localhost:8080/",
          "height": 346
        }
      },
      "source": [
        "test_loss_plt = [1.4942535, 1.2132678, 1.1633137, 1.1558896, 1.1566725, 1.1657099, 1.1741136, 1.191923, 1.2171673]\n",
        "train_loss_plt = [358.06757, 1.3802097, 1.2618506, 1.2162862, 1.1912273, 1.1947932, 1.1734571, 1.161564, 1.138844]\n",
        "iteration = range(0,9)\n",
        "fig = plt.figure()\n",
        "axes1 = fig.add_axes([0.1,0.1,0.8,0.8])\n",
        "axes1.plot(iteration,train_loss_plt,'r')\n",
        "axes1.set_title(\"training loss\")\n",
        "axes1.set_xlabel(\"iteration\")\n",
        "axes1.set_ylabel(\"training loss\")\n",
        "\n",
        "axes2 = fig.add_axes([1.2,0.1,0.8,0.8])\n",
        "axes2.plot(iteration,test_loss_plt,'b')\n",
        "axes2.set_title(\"test loss\")\n",
        "axes2.set_xlabel(\"iteration\")\n",
        "axes2.set_ylabel(\"test loss\")"
      ],
      "execution_count": 0,
      "outputs": [
        {
          "output_type": "execute_result",
          "data": {
            "text/plain": [
              "Text(0, 0.5, 'test loss')"
            ]
          },
          "metadata": {
            "tags": []
          },
          "execution_count": 33
        },
        {
          "output_type": "display_data",
          "data": {
            "image/png": "[encoded data removed]",
            "text/plain": [
              "<Figure size 432x288 with 2 Axes>"
            ]
          },
          "metadata": {
            "tags": []
          }
        }
      ]
    },
    {
      "cell_type": "markdown",
      "metadata": {
        "id": "Upgxw8Ezm4sI",
        "colab_type": "text"
      },
      "source": [
        "# Integrating ***csv*** file Metadata as I want to use it  in model training."
      ]
    },
    {
      "cell_type": "markdown",
      "metadata": {
        "id": "zYj4i3CQnK9p",
        "colab_type": "text"
      },
      "source": [
        "Age preprocessing first. Age is blank on many places and having 0 as an age value and should be handled in below mwntioned fashion.\n",
        "\n",
        "# Approach:\n",
        "1. First replace all unknown values with 0.\n",
        "2. Replace 0 with mean age of male in case sex is male.\n",
        "3. Replace 0 with mean age of female in case sex is female.\n",
        "4. Replace 0 with mean age of male+female  in case sex is unknown.\n",
        "5. And normalize the age in the last for faster model training.\n",
        "6. Dump the minMaxscaler model\n"
      ]
    },
    {
      "cell_type": "code",
      "metadata": {
        "id": "dq3OEWiqjo-3",
        "colab_type": "code",
        "colab": {}
      },
      "source": [
        "#processing metadata file for model training\n",
        "\n",
        "def age_preprocessing(metaData):\n",
        "    '''\n",
        "    age and its issue:\n",
        "    1. Some of the values are blank.\n",
        "    2. Some of the age are zero\n",
        "    '''\n",
        "    metaData['age_p'] = metaData['age']\n",
        "\n",
        "    #taking mean age of male, female\n",
        "    mean_age_male = int(np.mean(metaData[metaData[\"sex\"] == 'male']['age']))\n",
        "    mean_age_female = int(np.mean(metaData[metaData[\"sex\"] == 'female']['age']))\n",
        "\n",
        "\n",
        "    #Initially replacing missing value with 0 using Imputer class\n",
        "    imp = SimpleImputer(missing_values=np.nan, strategy='constant', fill_value = 0)\n",
        "    age = metaData['age_p'].values\n",
        "    age = imp.fit_transform(age.reshape(-1,1))\n",
        "    metaData['age_p'] = age\n",
        "\n",
        "    #Replacing 0 age for male with mean male age\n",
        "    age = metaData[(metaData[\"sex\"] == 'male') & (metaData['age_p'] == 0)]['age_p']\n",
        "    for i in age.index:\n",
        "        metaData.at[i,'age_p'] = mean_age_male\n",
        "\n",
        "    #Replacing 0 age for female with mean female age\n",
        "    age = metaData[(metaData[\"sex\"] == 'female') & (metaData['age_p'] == 0)]['age_p']\n",
        "    for i in age.index:\n",
        "        metaData.at[i,'age_p'] = mean_age_female\n",
        "\n",
        "    #Replacing 0 age for unknown sex with mean age of both the sex\n",
        "    age = metaData[(metaData[\"sex\"] == 'unknown') & (metaData['age_p'] == 0)]['age_p']\n",
        "    for i in age.index:\n",
        "        metaData.at[i,'age_p'] = int((mean_age_female+mean_age_male)/2)\n",
        "\n",
        "    minMaxScaler = MinMaxScaler(feature_range = (-1,1))\n",
        "    minMaxScaler.fit(metaData['age_p'].values.reshape(-1,1))\n",
        "    age=minMaxScaler.transform(metaData['age_p'].values.reshape(-1,1))\n",
        "    pk.dump(minMaxScaler,open(\"minMaxScaler.pkl\",\"wb\"))\n",
        "    metaData.drop(columns=['age_p'], inplace = True)\n",
        "    return age"
      ],
      "execution_count": 0,
      "outputs": []
    },
    {
      "cell_type": "markdown",
      "metadata": {
        "id": "SpGOOJYMoZcS",
        "colab_type": "text"
      },
      "source": [
        "Converting rest of the metadata categorical features in to one hot encoding.\n",
        "# Saving all the models as pickle file."
      ]
    },
    {
      "cell_type": "code",
      "metadata": {
        "id": "fN9IZLGKjpCQ",
        "colab_type": "code",
        "colab": {}
      },
      "source": [
        "def convertingStringtoNumerical(metaData):    \n",
        "    #One hot Encoding Categorical features\n",
        "    ohe_dx_type = OneHotEncoder(sparse=False)\n",
        "    ohe_sex = OneHotEncoder(sparse=False)\n",
        "    ohe_dx_localization = OneHotEncoder(sparse=False)\n",
        "    \n",
        "    dx_type = ohe_dx_type.fit_transform(metaData['dx_type'].values.reshape(-1,1))\n",
        "    sex = ohe_dx_type.fit_transform(metaData['sex'].values.reshape(-1,1))\n",
        "    localization = ohe_dx_type.fit_transform(metaData['localization'].values.reshape(-1,1))\n",
        "    \n",
        "    pk.dump(ohe_dx_type,open(\"ohe_dx_type.pkl\",\"wb\"))\n",
        "    pk.dump(ohe_sex,open(\"ohe_sex.pkl\",\"wb\"))\n",
        "    pk.dump(ohe_dx_localization,open(\"ohe_dx_localization.pkl\",\"wb\"))\n",
        "    \n",
        "    return dx_type, sex, localization"
      ],
      "execution_count": 0,
      "outputs": []
    },
    {
      "cell_type": "markdown",
      "metadata": {
        "id": "8f7jfLXppa1P",
        "colab_type": "text"
      },
      "source": [
        "Cocatenating all the meta data and saving back again to csv file."
      ]
    },
    {
      "cell_type": "code",
      "metadata": {
        "id": "knRcn8eKoizd",
        "colab_type": "code",
        "colab": {}
      },
      "source": [
        "age = age_preprocessing(metaData)\n",
        "dx_type, sex, localization = convertingStringtoNumerical(metaData)\n",
        "\n",
        "\n",
        "features_fromMetaData = np.concatenate((age,dx_type,sex,localization), axis = 1)\n",
        "\n",
        "df = pd.DataFrame(data=features_fromMetaData[0:,0:])\n",
        "metaData = pd.concat([metaData, df],axis=1)\n",
        "df_train, df_test = train_test_split(metaData, test_size=0.1, random_state=786, stratify=y)\n"
      ],
      "execution_count": 0,
      "outputs": []
    },
    {
      "cell_type": "code",
      "metadata": {
        "id": "jsm4RFplWTaK",
        "colab_type": "code",
        "outputId": "c1d55f3c-0815-469d-a362-dd03187e9fc4",
        "colab": {
          "base_uri": "https://localhost:8080/",
          "height": 222
        }
      },
      "source": [
        "metaData.head()\n",
        "\n"
      ],
      "execution_count": 0,
      "outputs": [
        {
          "output_type": "execute_result",
          "data": {
            "text/html": [
              "<div>\n",
              "<style scoped>\n",
              "    .dataframe tbody tr th:only-of-type {\n",
              "        vertical-align: middle;\n",
              "    }\n",
              "\n",
              "    .dataframe tbody tr th {\n",
              "        vertical-align: top;\n",
              "    }\n",
              "\n",
              "    .dataframe thead th {\n",
              "        text-align: right;\n",
              "    }\n",
              "</style>\n",
              "<table border=\"1\" class=\"dataframe\">\n",
              "  <thead>\n",
              "    <tr style=\"text-align: right;\">\n",
              "      <th></th>\n",
              "      <th>lesion_id</th>\n",
              "      <th>image_id</th>\n",
              "      <th>dx</th>\n",
              "      <th>dx_type</th>\n",
              "      <th>age</th>\n",
              "      <th>sex</th>\n",
              "      <th>localization</th>\n",
              "      <th>encoded_dx</th>\n",
              "      <th>0</th>\n",
              "      <th>1</th>\n",
              "      <th>2</th>\n",
              "      <th>3</th>\n",
              "      <th>4</th>\n",
              "      <th>5</th>\n",
              "      <th>6</th>\n",
              "      <th>7</th>\n",
              "      <th>8</th>\n",
              "      <th>9</th>\n",
              "      <th>10</th>\n",
              "      <th>11</th>\n",
              "      <th>12</th>\n",
              "      <th>13</th>\n",
              "      <th>14</th>\n",
              "      <th>15</th>\n",
              "      <th>16</th>\n",
              "      <th>17</th>\n",
              "      <th>18</th>\n",
              "      <th>19</th>\n",
              "      <th>20</th>\n",
              "      <th>21</th>\n",
              "      <th>22</th>\n",
              "    </tr>\n",
              "  </thead>\n",
              "  <tbody>\n",
              "    <tr>\n",
              "      <th>0</th>\n",
              "      <td>HAM_0000118</td>\n",
              "      <td>ISIC_0027419</td>\n",
              "      <td>bkl</td>\n",
              "      <td>histo</td>\n",
              "      <td>80.0</td>\n",
              "      <td>male</td>\n",
              "      <td>scalp</td>\n",
              "      <td>2</td>\n",
              "      <td>0.875</td>\n",
              "      <td>0.0</td>\n",
              "      <td>0.0</td>\n",
              "      <td>0.0</td>\n",
              "      <td>1.0</td>\n",
              "      <td>0.0</td>\n",
              "      <td>1.0</td>\n",
              "      <td>0.0</td>\n",
              "      <td>0.0</td>\n",
              "      <td>0.0</td>\n",
              "      <td>0.0</td>\n",
              "      <td>0.0</td>\n",
              "      <td>0.0</td>\n",
              "      <td>0.0</td>\n",
              "      <td>0.0</td>\n",
              "      <td>0.0</td>\n",
              "      <td>0.0</td>\n",
              "      <td>0.0</td>\n",
              "      <td>0.0</td>\n",
              "      <td>1.0</td>\n",
              "      <td>0.0</td>\n",
              "      <td>0.0</td>\n",
              "      <td>0.0</td>\n",
              "    </tr>\n",
              "    <tr>\n",
              "      <th>1</th>\n",
              "      <td>HAM_0000118</td>\n",
              "      <td>ISIC_0025030</td>\n",
              "      <td>bkl</td>\n",
              "      <td>histo</td>\n",
              "      <td>80.0</td>\n",
              "      <td>male</td>\n",
              "      <td>scalp</td>\n",
              "      <td>2</td>\n",
              "      <td>0.875</td>\n",
              "      <td>0.0</td>\n",
              "      <td>0.0</td>\n",
              "      <td>0.0</td>\n",
              "      <td>1.0</td>\n",
              "      <td>0.0</td>\n",
              "      <td>1.0</td>\n",
              "      <td>0.0</td>\n",
              "      <td>0.0</td>\n",
              "      <td>0.0</td>\n",
              "      <td>0.0</td>\n",
              "      <td>0.0</td>\n",
              "      <td>0.0</td>\n",
              "      <td>0.0</td>\n",
              "      <td>0.0</td>\n",
              "      <td>0.0</td>\n",
              "      <td>0.0</td>\n",
              "      <td>0.0</td>\n",
              "      <td>0.0</td>\n",
              "      <td>1.0</td>\n",
              "      <td>0.0</td>\n",
              "      <td>0.0</td>\n",
              "      <td>0.0</td>\n",
              "    </tr>\n",
              "    <tr>\n",
              "      <th>2</th>\n",
              "      <td>HAM_0002730</td>\n",
              "      <td>ISIC_0026769</td>\n",
              "      <td>bkl</td>\n",
              "      <td>histo</td>\n",
              "      <td>80.0</td>\n",
              "      <td>male</td>\n",
              "      <td>scalp</td>\n",
              "      <td>2</td>\n",
              "      <td>0.875</td>\n",
              "      <td>0.0</td>\n",
              "      <td>0.0</td>\n",
              "      <td>0.0</td>\n",
              "      <td>1.0</td>\n",
              "      <td>0.0</td>\n",
              "      <td>1.0</td>\n",
              "      <td>0.0</td>\n",
              "      <td>0.0</td>\n",
              "      <td>0.0</td>\n",
              "      <td>0.0</td>\n",
              "      <td>0.0</td>\n",
              "      <td>0.0</td>\n",
              "      <td>0.0</td>\n",
              "      <td>0.0</td>\n",
              "      <td>0.0</td>\n",
              "      <td>0.0</td>\n",
              "      <td>0.0</td>\n",
              "      <td>0.0</td>\n",
              "      <td>1.0</td>\n",
              "      <td>0.0</td>\n",
              "      <td>0.0</td>\n",
              "      <td>0.0</td>\n",
              "    </tr>\n",
              "    <tr>\n",
              "      <th>3</th>\n",
              "      <td>HAM_0002730</td>\n",
              "      <td>ISIC_0025661</td>\n",
              "      <td>bkl</td>\n",
              "      <td>histo</td>\n",
              "      <td>80.0</td>\n",
              "      <td>male</td>\n",
              "      <td>scalp</td>\n",
              "      <td>2</td>\n",
              "      <td>0.875</td>\n",
              "      <td>0.0</td>\n",
              "      <td>0.0</td>\n",
              "      <td>0.0</td>\n",
              "      <td>1.0</td>\n",
              "      <td>0.0</td>\n",
              "      <td>1.0</td>\n",
              "      <td>0.0</td>\n",
              "      <td>0.0</td>\n",
              "      <td>0.0</td>\n",
              "      <td>0.0</td>\n",
              "      <td>0.0</td>\n",
              "      <td>0.0</td>\n",
              "      <td>0.0</td>\n",
              "      <td>0.0</td>\n",
              "      <td>0.0</td>\n",
              "      <td>0.0</td>\n",
              "      <td>0.0</td>\n",
              "      <td>0.0</td>\n",
              "      <td>1.0</td>\n",
              "      <td>0.0</td>\n",
              "      <td>0.0</td>\n",
              "      <td>0.0</td>\n",
              "    </tr>\n",
              "    <tr>\n",
              "      <th>4</th>\n",
              "      <td>HAM_0001466</td>\n",
              "      <td>ISIC_0031633</td>\n",
              "      <td>bkl</td>\n",
              "      <td>histo</td>\n",
              "      <td>75.0</td>\n",
              "      <td>male</td>\n",
              "      <td>ear</td>\n",
              "      <td>2</td>\n",
              "      <td>0.750</td>\n",
              "      <td>0.0</td>\n",
              "      <td>0.0</td>\n",
              "      <td>0.0</td>\n",
              "      <td>1.0</td>\n",
              "      <td>0.0</td>\n",
              "      <td>1.0</td>\n",
              "      <td>0.0</td>\n",
              "      <td>0.0</td>\n",
              "      <td>0.0</td>\n",
              "      <td>0.0</td>\n",
              "      <td>0.0</td>\n",
              "      <td>1.0</td>\n",
              "      <td>0.0</td>\n",
              "      <td>0.0</td>\n",
              "      <td>0.0</td>\n",
              "      <td>0.0</td>\n",
              "      <td>0.0</td>\n",
              "      <td>0.0</td>\n",
              "      <td>0.0</td>\n",
              "      <td>0.0</td>\n",
              "      <td>0.0</td>\n",
              "      <td>0.0</td>\n",
              "    </tr>\n",
              "  </tbody>\n",
              "</table>\n",
              "</div>"
            ],
            "text/plain": [
              "     lesion_id      image_id   dx dx_type   age  ...   18   19   20   21   22\n",
              "0  HAM_0000118  ISIC_0027419  bkl   histo  80.0  ...  0.0  1.0  0.0  0.0  0.0\n",
              "1  HAM_0000118  ISIC_0025030  bkl   histo  80.0  ...  0.0  1.0  0.0  0.0  0.0\n",
              "2  HAM_0002730  ISIC_0026769  bkl   histo  80.0  ...  0.0  1.0  0.0  0.0  0.0\n",
              "3  HAM_0002730  ISIC_0025661  bkl   histo  80.0  ...  0.0  1.0  0.0  0.0  0.0\n",
              "4  HAM_0001466  ISIC_0031633  bkl   histo  75.0  ...  0.0  0.0  0.0  0.0  0.0\n",
              "\n",
              "[5 rows x 31 columns]"
            ]
          },
          "metadata": {
            "tags": []
          },
          "execution_count": 33
        }
      ]
    },
    {
      "cell_type": "markdown",
      "metadata": {
        "id": "oBRBWQtoqh8F",
        "colab_type": "text"
      },
      "source": [
        "# New batch method, that will return meta data as well.\n",
        "\n",
        "### Assumption images exist in images folder."
      ]
    },
    {
      "cell_type": "code",
      "metadata": {
        "id": "GNqX-3Umqe0D",
        "colab_type": "code",
        "colab": {}
      },
      "source": [
        "def get_batch_with_metadata(df, batch_size, transformation = False):\n",
        "    \"\"\"\n",
        "    tranformation: Set as False just to get the original image. Tried to run,\n",
        "    but observed memory issue. Set can set as True and reduced scale  by 1/4.\n",
        "    \n",
        "    \n",
        "    \n",
        "    \"\"\"\n",
        "    for batch_i in range(0, 1 + (df.shape[0] //batch_size)):\n",
        "        start_i = batch_i * batch_size\n",
        "        try:\n",
        "            batch = df.iloc[start_i:start_i + batch_size]    \n",
        "        except IndexError:\n",
        "            batch = df.loc[start_i:]\n",
        "            \n",
        "        image_list  = [] \n",
        "        label = []\n",
        "        metaDataFeatures = []\n",
        "        \n",
        "        for i in range(batch.shape[0]):\n",
        "            imageFileName = batch.iloc[i]['image_id']\n",
        "        \n",
        "            try:\n",
        "                img = io.imread('images/'+imageFileName+\".jpg\", plugin='matplotlib')\n",
        "                #if(450 != img.shape[0] or 600 != img.shape[1]):\n",
        "                #  img = transform.resize(img, (450, 600),anti_aliasing=True)\n",
        "                \n",
        "                if True == transformation:\n",
        "                    img = transform.rescale(img, 0.25, anti_aliasing=True)\n",
        "                    #Recommended to use anti_aliasing as True just to have crisp boundaries of the image.\n",
        "                image_list.append(img/255)\n",
        "                label.append(batch.iloc[i]['encoded_dx'])\n",
        "                metaDataFeatures.append(batch.iloc[i,8:])\n",
        "            \n",
        "            except IOError:\n",
        "                pass\n",
        "        yield np.array(image_list), np.array(label), np.array(metaDataFeatures)   "
      ],
      "execution_count": 0,
      "outputs": []
    },
    {
      "cell_type": "markdown",
      "metadata": {
        "id": "yjWudXH-rXW9",
        "colab_type": "text"
      },
      "source": [
        "Defininigg new model_input method, that will return .csv file **processed meta data** along with other relevant information required for model training."
      ]
    },
    {
      "cell_type": "code",
      "metadata": {
        "id": "IbtcnGWjrHNM",
        "colab_type": "code",
        "colab": {}
      },
      "source": [
        "def modelInputs_for_Metadata(height, width, chanels):\n",
        "    '''Create palceholders for inputs to the model'''\n",
        "    features = tf.placeholder(tf.float32, shape=[None, height, width, channels], name=\"features\")   \n",
        "    metaDataFeatures = tf.placeholder(tf.float32, shape=[None, 23], name=\"metaDataFeatures\")\n",
        "    target = tf.placeholder(tf.int32, shape=[None], name=\"target\")\n",
        "    lr = tf.placeholder(tf.float32, name='lr')\n",
        "    keep_prob = tf.placeholder(tf.float32, name='keep_prob')\n",
        "    is_model_training = tf.placeholder(tf.bool, name = \"is_model_training\")\n",
        "    return features, metaDataFeatures, target, lr, keep_prob, is_model_training"
      ],
      "execution_count": 0,
      "outputs": []
    },
    {
      "cell_type": "markdown",
      "metadata": {
        "id": "nxCkY5UOsecf",
        "colab_type": "text"
      },
      "source": [
        "# Needs to redefine convLayers just to integrate meta data info."
      ]
    },
    {
      "cell_type": "code",
      "metadata": {
        "id": "kcDTV1Zyr2zd",
        "colab_type": "code",
        "colab": {}
      },
      "source": [
        "def convLayersWithPooling_for_Metadata(features, metaDataFeatures, keep_prob, conv1_FiltersCount, \n",
        "                          conv2_FiltersCount, conv1_filterSize, conv2_filterSize,\n",
        "                          conv1_stride, conv2_stride, conv1_pad, conv2_pad, denseLayerNeurons, \n",
        "                          outputSize, isTraining):\n",
        "    with tf.name_scope(\"ConvLayers\"):\n",
        "        conv1 = tf.layers.conv2d(features, filters=conv1_FiltersCount, kernel_size=conv1_filterSize,\n",
        "                                 strides=conv1_stride, padding=conv1_pad, activation=tf.nn.relu, \n",
        "                                 name=\"conv1\")\n",
        "        conv2 = tf.layers.conv2d(conv1, filters=conv2_FiltersCount, kernel_size=conv2_filterSize,\n",
        "                                 strides=conv2_stride, padding=conv2_pad, activation=tf.nn.relu, \n",
        "                                 name=\"conv2\")\n",
        "        \n",
        "    with tf.name_scope(\"Pooling\"):\n",
        "        layer3 = tf.nn.max_pool(conv2, ksize=[1, 2, 2, 1], strides=[1, 2, 2, 1], padding=\"VALID\")\n",
        "        layer3_reshaped = tf.reshape(layer3, shape=[-1, layer3.shape[1]* layer3.shape[2]* layer3.shape[3]])\n",
        "        #Concatenaed MetaData with CNN layer output, just before the dense layer.\n",
        "        concatenated_data = tf.concat([layer3_reshaped, metaDataFeatures], 1)\n",
        "        \n",
        "    with tf.name_scope(\"DenseLayer\"):\n",
        "        layer4 = tf.layers.dense(concatenated_data, denseLayerNeurons, activation=tf.nn.relu, name=\"fc\")\n",
        "        dropout = tf.layers.dropout(inputs=layer4, rate=keep_prob, training=isTraining)\n",
        "        \n",
        "    with tf.name_scope(\"output\"):\n",
        "        logits = tf.layers.dense(dropout, outputSize, name=\"output\")\n",
        "        print(\"logits:\",logits)\n",
        "        \n",
        "    return logits"
      ],
      "execution_count": 0,
      "outputs": []
    },
    {
      "cell_type": "markdown",
      "metadata": {
        "id": "Ick2PcfftHOB",
        "colab_type": "text"
      },
      "source": [
        "# No Change in optimizer part.,"
      ]
    },
    {
      "cell_type": "code",
      "metadata": {
        "id": "NaoA2Mk9tGMa",
        "colab_type": "code",
        "outputId": "87e80ebf-e863-49a1-da09-8ce00195970d",
        "colab": {
          "base_uri": "https://localhost:8080/",
          "height": 89
        }
      },
      "source": [
        "tf.reset_default_graph()\n",
        "features, metaDataFeatures, target, lr, keep_prob, is_model_training = modelInputs_for_Metadata(height, width, channels)\n",
        "\n",
        "logits = convLayersWithPooling_for_Metadata(features, metaDataFeatures, keep_prob, conv1_FiltersCount, conv2_FiltersCount, \n",
        "                               conv1_filterSize, conv2_filterSize,conv1_stride, conv2_stride, \n",
        "                               conv1_pad, conv2_pad, denseLayerNeurons, outputSize, is_model_training)\n",
        "loss, training_op, accuracy = optmizationWithAccuracy(logits, target, lr)\n",
        "\n",
        "with tf.name_scope(\"init_and_save\"):\n",
        "    init = tf.global_variables_initializer()\n",
        "    saver = tf.train.Saver()\n"
      ],
      "execution_count": 0,
      "outputs": [
        {
          "output_type": "stream",
          "text": [
            "logits: Tensor(\"output/output/BiasAdd:0\", shape=(?, 7), dtype=float32)\n",
            "xentropy: Tensor(\"train/SparseSoftmaxCrossEntropyWithLogits/SparseSoftmaxCrossEntropyWithLogits:0\", shape=(?,), dtype=float32)\n",
            "loss: Tensor(\"train/Mean:0\", shape=(), dtype=float32)\n"
          ],
          "name": "stdout"
        }
      ]
    },
    {
      "cell_type": "code",
      "metadata": {
        "id": "rJZM3gkS4jvS",
        "colab_type": "code",
        "colab": {}
      },
      "source": [
        "with tf.Session() as sess:\n",
        "    earlyStop = 0\n",
        "    init.run()\n",
        "    train_loss = []\n",
        "    test_loss = []\n",
        "    train_accuracy = []\n",
        "    test_accuracy = []\n",
        "    for epoch in range(n_epochs):\n",
        "        count = 0\n",
        "        epochlosses = []\n",
        "        accuracy = []\n",
        "        print(\"\\n***************************************************************epoch:\",epoch)\n",
        "        for i, (X_image, y_label, X_metadata) in enumerate(get_batch_with_metadata(df_train, batch_size, False)):\n",
        "            #print(X_image.shape, y_label.reshape(-1))\n",
        "            \n",
        "            losses, op, correctness = sess.run((loss, training_op, accuracy), \n",
        "                                               feed_dict={features: X_image, \n",
        "                                                          metaDataFeatures: X_metadata,\n",
        "                                                          target:y_label.reshape(-1),\n",
        "                                                          lr:learning_rate,\n",
        "                                                          keep_prob:k_prob,\n",
        "                                                          is_model_training:True})\n",
        "            epochlosses.append(losses)\n",
        "            accuracy.append(correctness)            \n",
        "            if count == 50:\n",
        "                break\n",
        "            count = count+1\n",
        "            \n",
        "        train_loss.append(np.mean(epochlosses)) \n",
        "        train_accuracy.append(np.mean(accuracy))\n",
        "        # Reducing learning rate for more gannualar results. Though, it will \n",
        "        #make training bit slow.\n",
        "        print(\"learning_rate\", learning_rate)\n",
        "        learning_rate = np.max([learning_rate * invscaling_factor, min_lr_threshold])\n",
        "        print(\"learning_rate\", learning_rate)\n",
        "        \n",
        "        total_test_loss = []\n",
        "        accuracy = []\n",
        "        #print(\"train loss:\", train_loss)\n",
        "        count = 0\n",
        "        for i, (X_image, y_label, X_metadata) in enumerate(get_batch_with_metadata(df_test, 15, False)):\n",
        "            losses, acc = sess.run((loss,accuracy), feed_dict={features: X_image, \n",
        "                                               metaDataFeatures: X_metadata,\n",
        "                                               target:y_label.reshape(-1),\n",
        "                                               keep_prob:1,\n",
        "                                               is_model_training:False})    \n",
        "\n",
        "            total_test_loss.append(losses)\n",
        "            accuracy.append(acc)\n",
        "            if count == 5:\n",
        "                break\n",
        "            count = count+1\n",
        "        print(\"tarin_loss:\", np.mean(epochlosses), \"    test loss:\",np.mean(total_test_loss))    \n",
        "        \n",
        "        test_loss.append(np.mean(total_test_loss))\n",
        "        test_accuracy.append(np.mean(accuracy))\n",
        "        #print(\"test loss:\", test_loss)\n",
        "        if np.mean(total_test_loss) <= np.min(test_loss):\n",
        "            print(\"improving\")\n",
        "            earlyStop = 0\n",
        "            saver = tf.train.Saver() \n",
        "            #saver.save(sess, checkpoint)\n",
        "\n",
        "        else:\n",
        "            print(\"No Improvement.\")\n",
        "            earlyStop += 1\n",
        "            if earlyStop == threshold:\n",
        "                print(\"no improvement and terminating\")\n",
        "                break"
      ],
      "execution_count": 0,
      "outputs": []
    },
    {
      "cell_type": "markdown",
      "metadata": {
        "id": "kbb-vXJiL---",
        "colab_type": "text"
      },
      "source": [
        "# Result capture for 10 epochs. For PoC, captured result for partial data and dont run for the whole set."
      ]
    },
    {
      "cell_type": "code",
      "metadata": {
        "id": "TjVEtLt5Ffge",
        "colab_type": "code",
        "outputId": "ef7a9d38-5894-4a86-8952-67f22650b73e",
        "colab": {
          "base_uri": "https://localhost:8080/",
          "height": 346
        }
      },
      "source": [
        "test_loss_plt = [1.8566809, 1.774573, 1.7028137, 1.6450186, 1.5966746, 1.5560867, 1.5218773, 1.4929241, 1.4683124, 1.4472984]\n",
        "train_loss_plt = [447.05408, 1.8138844, 1.736963, 1.6728997, 1.6194909, 1.5747224, 1.5370576, 1.5052423, 1.4782546, 1.4552612]\n",
        "iteration = range(0,10)\n",
        "fig = plt.figure()\n",
        "axes1 = fig.add_axes([0.1,0.1,0.8,0.8])\n",
        "axes1.plot(iteration,train_loss_plt,'r')\n",
        "axes1.set_title(\"training loss\")\n",
        "axes1.set_xlabel(\"iteration\")\n",
        "axes1.set_ylabel(\"training loss\")\n",
        "\n",
        "axes2 = fig.add_axes([1.2,0.1,0.8,0.8])\n",
        "axes2.plot(iteration,test_loss_plt,'b')\n",
        "axes2.set_title(\"test loss\")\n",
        "axes2.set_xlabel(\"iteration\")\n",
        "axes2.set_ylabel(\"test loss\")"
      ],
      "execution_count": 0,
      "outputs": [
        {
          "output_type": "execute_result",
          "data": {
            "text/plain": [
              "Text(0, 0.5, 'test loss')"
            ]
          },
          "metadata": {
            "tags": []
          },
          "execution_count": 35
        },
        {
          "output_type": "display_data",
          "data": {
            "image/png": "[encoded data removed]",
            "text/plain": [
              "<Figure size 432x288 with 2 Axes>"
            ]
          },
          "metadata": {
            "tags": []
          }
        }
      ]
    }
  ]
}